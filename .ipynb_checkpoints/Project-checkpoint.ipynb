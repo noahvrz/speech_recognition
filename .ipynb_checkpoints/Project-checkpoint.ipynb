{
 "cells": [
  {
   "cell_type": "markdown",
   "metadata": {},
   "source": [
    "## Load the LibriSpeech Dataset\n",
    "The LibriSpeech dataset consists of folders nested two deep, the inner folders containing a text file, each line a different utterance, and the associated utterances as FLAC files."
   ]
  },
  {
   "cell_type": "code",
   "execution_count": 2,
   "metadata": {
    "collapsed": false
   },
   "outputs": [],
   "source": [
    "import os\n",
    "\n",
    "librispeech_dir = \"/Users/Noah/Downloads/LibriSpeech/dev-clean\"\n",
    "\n",
    "if not os.path.exists(librispeech_dir):\n",
    "    raise OSError(\"LibriSpeech directory not found\")\n",
    "    \n",
    "\n",
    "directories = [os.path.join(librispeech_dir, d) for d in os.listdir(librispeech_dir) \n",
    "               if os.path.isdir(os.path.join(librispeech_dir, d))]\n",
    "\n",
    "audiofiles = []\n",
    "\n",
    "for directory in directories:\n",
    "    sub_directories = [d for d in os.listdir(directory) if os.path.isdir(os.path.join(directory, d))]\n",
    "        \n",
    "    for sub_directory in sub_directories:\n",
    "        trans_file = open(os.path.join(directory, sub_directory) \n",
    "                          + \"/\" + os.path.basename(directory) + \"-\" + sub_directory + \".trans.txt\", 'r')\n",
    "        \n",
    "        for line in trans_file:\n",
    "            parts = line[:-1].split(\" \", 1)\n",
    "            \n",
    "            filename = os.path.join(directory, sub_directory) + \"/\" + parts[0] + \".flac\"\n",
    "            text = parts[1]\n",
    "            \n",
    "            audiofiles.append((filename, text))"
   ]
  },
  {
   "cell_type": "markdown",
   "metadata": {},
   "source": [
    "## Convert the FLAC files to visual representations\n",
    "Use librosa to get the log-scaled spectrogram?"
   ]
  },
  {
   "cell_type": "code",
   "execution_count": 12,
   "metadata": {
    "collapsed": false
   },
   "outputs": [],
   "source": [
    "#todo\n",
    "import librosa\n",
    "import numpy as np\n",
    "\n",
    "alphabet = \"_ABCDEFGHIJKLMNOPQRSTUVWXYZ' \"\n",
    "letter_to_index = dict()\n",
    "for i in range(0, len(alphabet)):\n",
    "    letter_to_index[alphabet[i]] = i\n",
    "\n",
    "index_and_spectrograms = []\n",
    "for audiofile, text in audiofiles:\n",
    "    \n",
    "    # Generate MFSC from audio file\n",
    "    time_series, sampling_rate = librosa.load(audiofile)\n",
    "    mfsc = librosa.feature.melspectrogram(y = time_series, sr = sampling_rate)\n",
    "    \n",
    "    # Convert text into indexes in the alphabet\n",
    "    text_list = []\n",
    "    for l in text:\n",
    "        text_list.append(letter_to_index[l])\n",
    "    \n",
    "    index_and_spectrograms.append((text_list, mfsc))"
   ]
  },
  {
   "cell_type": "markdown",
   "metadata": {},
   "source": [
    "## Build the Network Architecture\n",
    "The network takes in audio spectrograms, applies a series of convolutional layers, and then feeds the result into a series of reccurent layers (either vanilla RNN or GRU). The last layers are fully connected. It uses CTC loss. Batch normalization and dropout are used throughout.\n",
    "\n",
    "Current Plan: 1 conv, 3 recurrent, 1 fc"
   ]
  },
  {
   "cell_type": "code",
   "execution_count": 47,
   "metadata": {
    "collapsed": true
   },
   "outputs": [],
   "source": [
    "import tensorflow as tf\n",
    "\n",
    "conv_architecture = []\n",
    "rnn_architecture = []\n",
    "\n",
    "# These functions create weight and bias variables appropriate for CNN's using ReLU.\n",
    "def cnn_weight_variable(shape):\n",
    "    initial = tf.truncated_normal(shape, stddev=0.05)\n",
    "    return tf.Variable(initial)\n",
    "\n",
    "def cnn_bias_variable(shape):\n",
    "    initial = tf.constant(0.1, shape=shape)\n",
    "    return tf.Variable(initial)"
   ]
  },
  {
   "cell_type": "code",
   "execution_count": null,
   "metadata": {
    "collapsed": true
   },
   "outputs": [],
   "source": []
  }
 ],
 "metadata": {
  "kernelspec": {
   "display_name": "Python 3",
   "language": "python",
   "name": "python3"
  },
  "language_info": {
   "codemirror_mode": {
    "name": "ipython",
    "version": 3
   },
   "file_extension": ".py",
   "mimetype": "text/x-python",
   "name": "python",
   "nbconvert_exporter": "python",
   "pygments_lexer": "ipython3",
   "version": "3.5.2"
  }
 },
 "nbformat": 4,
 "nbformat_minor": 1
}
